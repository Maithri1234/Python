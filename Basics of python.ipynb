{
  "nbformat": 4,
  "nbformat_minor": 0,
  "metadata": {
    "colab": {
      "provenance": [],
      "authorship_tag": "ABX9TyOkl3fScg8CsLS5t7O2CM40",
      "include_colab_link": true
    },
    "kernelspec": {
      "name": "python3",
      "display_name": "Python 3"
    },
    "language_info": {
      "name": "python"
    }
  },
  "cells": [
    {
      "cell_type": "markdown",
      "metadata": {
        "id": "view-in-github",
        "colab_type": "text"
      },
      "source": [
        "<a href=\"https://colab.research.google.com/github/Maithri1234/Python/blob/main/Basics%20of%20python.ipynb\" target=\"_parent\"><img src=\"https://colab.research.google.com/assets/colab-badge.svg\" alt=\"Open In Colab\"/></a>"
      ]
    },
    {
      "cell_type": "markdown",
      "source": [
        "Programming Languages used for Machine Learning\n",
        "1. Python\n",
        "2. R"
      ],
      "metadata": {
        "id": "O7EYOPb8ktVU"
      }
    },
    {
      "cell_type": "markdown",
      "source": [
        "#Print Functions\n"
      ],
      "metadata": {
        "id": "OikutXSRlva3"
      }
    },
    {
      "cell_type": "code",
      "source": [
        "print(\"Machine Learning\")"
      ],
      "metadata": {
        "colab": {
          "base_uri": "https://localhost:8080/"
        },
        "id": "7cNS9_-0kxqM",
        "outputId": "0fb34e47-62a7-404c-ad9c-ba80dda5bd48"
      },
      "execution_count": 4,
      "outputs": [
        {
          "output_type": "stream",
          "name": "stdout",
          "text": [
            "Machine Learning\n"
          ]
        }
      ]
    },
    {
      "cell_type": "code",
      "source": [
        "print(\"Machine Learning\" + \" Projects\")"
      ],
      "metadata": {
        "colab": {
          "base_uri": "https://localhost:8080/"
        },
        "id": "s97ZiqsplCir",
        "outputId": "fa523bc7-2db1-4c35-d749-54485986cb1a"
      },
      "execution_count": 6,
      "outputs": [
        {
          "output_type": "stream",
          "name": "stdout",
          "text": [
            "Machine Learning Projects\n"
          ]
        }
      ]
    },
    {
      "cell_type": "code",
      "source": [
        "print(8+3)"
      ],
      "metadata": {
        "colab": {
          "base_uri": "https://localhost:8080/"
        },
        "id": "2LkKjA5PlP31",
        "outputId": "2d499654-8547-4081-f111-950422fca29d"
      },
      "execution_count": 7,
      "outputs": [
        {
          "output_type": "stream",
          "name": "stdout",
          "text": [
            "11\n"
          ]
        }
      ]
    },
    {
      "cell_type": "markdown",
      "source": [
        "#BASIC DATA TYPES\n",
        "1.int\n",
        "2.str\n",
        "3.float"
      ],
      "metadata": {
        "id": "l7EbW3vCm_AC"
      }
    },
    {
      "cell_type": "code",
      "source": [
        "type(5)"
      ],
      "metadata": {
        "colab": {
          "base_uri": "https://localhost:8080/"
        },
        "id": "vybDnma-mCmJ",
        "outputId": "b04bf1fa-d218-44d4-8ef3-6bebc2a7c0b6"
      },
      "execution_count": 9,
      "outputs": [
        {
          "output_type": "execute_result",
          "data": {
            "text/plain": [
              "int"
            ]
          },
          "metadata": {},
          "execution_count": 9
        }
      ]
    },
    {
      "cell_type": "code",
      "source": [
        "type(\"hi\")"
      ],
      "metadata": {
        "colab": {
          "base_uri": "https://localhost:8080/"
        },
        "id": "8Lvzq-qbmPrI",
        "outputId": "357ef1eb-c839-452d-81d8-7e9219719a3c"
      },
      "execution_count": 11,
      "outputs": [
        {
          "output_type": "execute_result",
          "data": {
            "text/plain": [
              "str"
            ]
          },
          "metadata": {},
          "execution_count": 11
        }
      ]
    },
    {
      "cell_type": "code",
      "source": [
        "type(9.0)"
      ],
      "metadata": {
        "colab": {
          "base_uri": "https://localhost:8080/"
        },
        "id": "sgkGQl-tmUB6",
        "outputId": "37032118-ed60-4816-ffb6-f9a77b0542e3"
      },
      "execution_count": 12,
      "outputs": [
        {
          "output_type": "execute_result",
          "data": {
            "text/plain": [
              "float"
            ]
          },
          "metadata": {},
          "execution_count": 12
        }
      ]
    },
    {
      "cell_type": "markdown",
      "source": [
        "#CONSTANTS & VARIABLES"
      ],
      "metadata": {
        "id": "WgDcnL4fnJeM"
      }
    },
    {
      "cell_type": "code",
      "source": [
        "a= \"python\"\n",
        "print(a)"
      ],
      "metadata": {
        "colab": {
          "base_uri": "https://localhost:8080/"
        },
        "id": "oIrm9yoGmh_Z",
        "outputId": "78abc7ac-1796-4ebb-e66d-b407ecc8fa13"
      },
      "execution_count": 13,
      "outputs": [
        {
          "output_type": "stream",
          "name": "stdout",
          "text": [
            "python\n"
          ]
        }
      ]
    },
    {
      "cell_type": "code",
      "source": [
        "hero1 , hero2 , hero3 = \"Iron Man\" , \"Captain America\" , \"Bat Man\"\n",
        "print(hero1)\n",
        "print(hero2)\n",
        "print(hero3)"
      ],
      "metadata": {
        "colab": {
          "base_uri": "https://localhost:8080/"
        },
        "id": "WRM-BJ_knUx9",
        "outputId": "0a7f3c59-eecd-4666-eb2d-09e5b5fc6c12"
      },
      "execution_count": 16,
      "outputs": [
        {
          "output_type": "stream",
          "name": "stdout",
          "text": [
            "Iron Man\n",
            "Captain America\n",
            "Bat Man\n"
          ]
        }
      ]
    },
    {
      "cell_type": "code",
      "source": [
        "x = y = z = 32\n",
        "print(x)\n",
        "print(y)\n",
        "print(z)"
      ],
      "metadata": {
        "colab": {
          "base_uri": "https://localhost:8080/"
        },
        "id": "Yub1Xm8En4ms",
        "outputId": "589892be-2765-4b60-f685-e1075e10793c"
      },
      "execution_count": 17,
      "outputs": [
        {
          "output_type": "stream",
          "name": "stdout",
          "text": [
            "32\n",
            "32\n",
            "32\n"
          ]
        }
      ]
    },
    {
      "cell_type": "markdown",
      "source": [
        "#INPUT FUNCTION"
      ],
      "metadata": {
        "id": "j95qQiGkoZh6"
      }
    },
    {
      "cell_type": "code",
      "source": [
        "number_1 = int(input(\"enter the first number:\"))\n",
        "number_2 = int(input(\"enter the second number:\"))\n",
        "sum = number_1 + number_2\n",
        "print(sum)"
      ],
      "metadata": {
        "colab": {
          "base_uri": "https://localhost:8080/"
        },
        "id": "x7KMykSyocjG",
        "outputId": "3aa23399-b442-41e2-9aee-eccdc86fdb9e"
      },
      "execution_count": 21,
      "outputs": [
        {
          "output_type": "stream",
          "name": "stdout",
          "text": [
            "enter the first number:12\n",
            "enter the second number:21\n",
            "33\n"
          ]
        }
      ]
    },
    {
      "cell_type": "markdown",
      "source": [
        "#CHANGING DATA TYPES"
      ],
      "metadata": {
        "id": "IOzGWJIspNUo"
      }
    },
    {
      "cell_type": "code",
      "source": [
        "num = 5\n",
        "float(num)"
      ],
      "metadata": {
        "colab": {
          "base_uri": "https://localhost:8080/"
        },
        "id": "9zEzQ7AvpQSR",
        "outputId": "a2da6124-2d4a-4011-fdf0-f305f5aa8cc5"
      },
      "execution_count": 22,
      "outputs": [
        {
          "output_type": "execute_result",
          "data": {
            "text/plain": [
              "5.0"
            ]
          },
          "metadata": {},
          "execution_count": 22
        }
      ]
    },
    {
      "cell_type": "markdown",
      "source": [],
      "metadata": {
        "id": "MmleLZDupu6s"
      }
    },
    {
      "cell_type": "markdown",
      "source": [
        "#Basic Data Types\n",
        "1.integer\n",
        "2.floating point\n",
        "3.complex\n",
        "4.boolean\n",
        "5.string"
      ],
      "metadata": {
        "id": "wTWUe-Bgp3Kj"
      }
    },
    {
      "cell_type": "code",
      "source": [
        "#integers\n",
        "a = 8\n",
        "print(a)"
      ],
      "metadata": {
        "colab": {
          "base_uri": "https://localhost:8080/"
        },
        "id": "72AhPFcLpz7b",
        "outputId": "42cce2db-7455-4c0e-a917-321b015b2724"
      },
      "execution_count": 23,
      "outputs": [
        {
          "output_type": "stream",
          "name": "stdout",
          "text": [
            "8\n"
          ]
        }
      ]
    },
    {
      "cell_type": "code",
      "source": [],
      "metadata": {
        "id": "03hG5KMrpsK1"
      },
      "execution_count": null,
      "outputs": []
    }
  ]
}